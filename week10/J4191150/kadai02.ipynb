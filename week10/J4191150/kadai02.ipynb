{
 "cells": [
  {
   "cell_type": "code",
   "execution_count": 9,
   "metadata": {},
   "outputs": [],
   "source": [
    "# 分子: numerator 分母: denominator\n",
    "class MyRational:\n",
    "    def __init__(self, num, den):\n",
    "        self.num = num\n",
    "        self.den = den\n",
    "        \n",
    "    def __str__(self):\n",
    "        if(self.den == 1):\n",
    "            return '{0}'.format(self.num)\n",
    "        else:\n",
    "            return '{0}/{1}'.format(self.num,self.den)\n",
    "    \n",
    "    def reduce(self):\n",
    "        a = self.num\n",
    "        b = self.den\n",
    "        while b!=0:\n",
    "            a,b = b,a%b\n",
    "        gcd = a\n",
    "        return MyRational(int(self.num/gcd),int(self.den/gcd))\n",
    "\n",
    "    def __add__(self, c2):\n",
    "        return MyRational(c2.den * self.num + self.den * c2.num,self.den * c2.den).reduce()\n",
    "    \n",
    "    def __hash__(self):\n",
    "        return self.num / self.den\n",
    "    \n",
    "    def __eq__(self, other):\n",
    "        return self.reduce().num == other.reduce().num and self.reduce().den == other.reduce().den\n",
    "\n",
    "class MyInteger(MyRational):\n",
    "    def __init__(self,thenum):\n",
    "        super().__init__(thenum,1)\n",
    "        \n",
    "    def __str__(self):\n",
    "        return '{0}'.format(int(self.num))\n",
    "    \n",
    "    def factorial(self):\n",
    "        product = 1\n",
    "        for i in range (1, self.num+1):\n",
    "            product *= i\n",
    "        return product\n",
    "    \n",
    "    def is_prime(self):\n",
    "        for i in range(2, self.num):\n",
    "            if self.num % i == 0:\n",
    "                return False\n",
    "        return True"
   ]
  },
  {
   "cell_type": "code",
   "execution_count": 17,
   "metadata": {},
   "outputs": [
    {
     "data": {
      "text/plain": [
       "120"
      ]
     },
     "execution_count": 17,
     "metadata": {},
     "output_type": "execute_result"
    }
   ],
   "source": [
    "i = MyInteger(5)\n",
    "i.factorial()"
   ]
  },
  {
   "cell_type": "code",
   "execution_count": 18,
   "metadata": {},
   "outputs": [
    {
     "data": {
      "text/plain": [
       "True"
      ]
     },
     "execution_count": 18,
     "metadata": {},
     "output_type": "execute_result"
    }
   ],
   "source": [
    "i.is_prime()"
   ]
  }
 ],
 "metadata": {
  "kernelspec": {
   "display_name": "Python 3",
   "language": "python",
   "name": "python3"
  },
  "language_info": {
   "codemirror_mode": {
    "name": "ipython",
    "version": 3
   },
   "file_extension": ".py",
   "mimetype": "text/x-python",
   "name": "python",
   "nbconvert_exporter": "python",
   "pygments_lexer": "ipython3",
   "version": "3.7.7"
  }
 },
 "nbformat": 4,
 "nbformat_minor": 2
}
