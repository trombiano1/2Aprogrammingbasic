{
 "cells": [
  {
   "cell_type": "code",
   "execution_count": 36,
   "metadata": {},
   "outputs": [],
   "source": [
    "# 分子: numerator 分母: denominator\n",
    "class MyRational:\n",
    "    def __init__(self, num, den):\n",
    "        self.num = num\n",
    "        self.den = den\n",
    "        \n",
    "    def __str__(self):\n",
    "        if(self.den == 1):\n",
    "            return '{0}'.format(self.num)\n",
    "        else:\n",
    "            return '{0}/{1}'.format(self.num,self.den)\n",
    "\n",
    "    def __add__(self, c2):\n",
    "        return reduce(MyRational(c2.den * self.num + self.den * c2.num,self.den * c2.den))\n",
    "    \n",
    "    def __hash__(self):\n",
    "        return self.num / self.den\n",
    "    \n",
    "    def __eq__(self, other):\n",
    "        return reduce(self).num == reduce(other).num and reduce(self).den == reduce(other).den\n",
    "    \n",
    "def gcd(a,b):\n",
    "    while b!=0:\n",
    "        a,b = b,a%b\n",
    "    return a\n",
    "\n",
    "def reduce(rational):\n",
    "    return MyRational(int(rational.num/gcd(rational.den,rational.num)),\n",
    "                      int(rational.den/gcd(rational.den,rational.num)))"
   ]
  },
  {
   "cell_type": "code",
   "execution_count": 39,
   "metadata": {},
   "outputs": [
    {
     "name": "stdout",
     "output_type": "stream",
     "text": [
      "2/3\n",
      "1\n"
     ]
    }
   ],
   "source": [
    "r1 = MyRational(2,3)\n",
    "print(r1) # 2 / 3が表示される\n",
    "r2 = MyRational(1,3)\n",
    "print(r1 + r2) # 1と表示される"
   ]
  },
  {
   "cell_type": "code",
   "execution_count": 40,
   "metadata": {},
   "outputs": [
    {
     "data": {
      "text/plain": [
       "True"
      ]
     },
     "execution_count": 40,
     "metadata": {},
     "output_type": "execute_result"
    }
   ],
   "source": [
    "r1 = MyRational(1, 3)\n",
    "r2 = MyRational(1, 3)\n",
    "r1 == r2"
   ]
  }
 ],
 "metadata": {
  "kernelspec": {
   "display_name": "Python 3",
   "language": "python",
   "name": "python3"
  },
  "language_info": {
   "codemirror_mode": {
    "name": "ipython",
    "version": 3
   },
   "file_extension": ".py",
   "mimetype": "text/x-python",
   "name": "python",
   "nbconvert_exporter": "python",
   "pygments_lexer": "ipython3",
   "version": "3.7.7"
  }
 },
 "nbformat": 4,
 "nbformat_minor": 2
}
