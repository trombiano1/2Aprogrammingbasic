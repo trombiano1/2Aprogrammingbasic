{
 "cells": [
  {
   "cell_type": "code",
   "execution_count": 3,
   "metadata": {},
   "outputs": [
    {
     "name": "stdout",
     "output_type": "stream",
     "text": [
      "4.5399808\n"
     ]
    }
   ],
   "source": [
    "import numpy as np\n",
    "\n",
    "acc = 10000000\n",
    "arr = (np.random.rand(3,acc) - 0.5) * 4\n",
    "plane = arr[2] > 0.5-0.5*arr[0]-0.5*arr[1]\n",
    "ellipsoidalsphere = 2 * arr[0]**2 + 3 * arr[1]**2 + arr[2]**2 < 4\n",
    "inout = plane * ellipsoidalsphere\n",
    "print(64*np.sum(inout == True)/acc)"
   ]
  }
 ],
 "metadata": {
  "kernelspec": {
   "display_name": "Python 3",
   "language": "python",
   "name": "python3"
  },
  "language_info": {
   "codemirror_mode": {
    "name": "ipython",
    "version": 3
   },
   "file_extension": ".py",
   "mimetype": "text/x-python",
   "name": "python",
   "nbconvert_exporter": "python",
   "pygments_lexer": "ipython3",
   "version": "3.7.7"
  }
 },
 "nbformat": 4,
 "nbformat_minor": 2
}
