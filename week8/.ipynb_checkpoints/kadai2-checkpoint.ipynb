{
 "cells": [
  {
   "cell_type": "code",
   "execution_count": 1,
   "metadata": {},
   "outputs": [
    {
     "data": {
      "text/plain": [
       "<Figure size 640x480 with 1 Axes>"
      ]
     },
     "metadata": {},
     "output_type": "display_data"
    }
   ],
   "source": [
    "import matplotlib.pyplot as plt\n",
    "\n",
    "remember_list = [0,0] #a, x0, n, x\n",
    "\n",
    "def gen(a = 3.9, x0 = 0.1):\n",
    "    global remember_list\n",
    "    n = 0\n",
    "    if a < 0 or a > 4:\n",
    "        raise ValueError('0 ≤ a ≤ 4')\n",
    "    elif x0 < 0 or x0 > 1.0:\n",
    "        raise ValueError('0 ≤ x0 ≤ 1')\n",
    "    \n",
    "    if remember_list[0] == 0:\n",
    "        x = x0\n",
    "    else:\n",
    "        n = remember_list[0]\n",
    "        x = remember_list[1]\n",
    "    \n",
    "    for i in range (0, n):\n",
    "        yield\n",
    "        \n",
    "    while True:\n",
    "        xnext = a * x * (1 - x)\n",
    "        yield xnext\n",
    "        x = xnext\n",
    "        n = n + 1\n",
    "        remember_list = [n, x]\n",
    "        \n",
    "g = gen(a = 3.9, x0 = 0.1)\n",
    "traj = [next(g) for i in range(100)]\n",
    "plt.plot(traj)\n",
    "plt.show()"
   ]
  },
  {
   "cell_type": "code",
   "execution_count": 28,
   "metadata": {},
   "outputs": [
    {
     "data": {
      "text/plain": [
       "<matplotlib.collections.PathCollection at 0x112902410>"
      ]
     },
     "execution_count": 28,
     "metadata": {},
     "output_type": "execute_result"
    },
    {
     "data": {
      "image/png": "[encoded data removed]",
      "text/plain": [
       "<Figure size 432x288 with 1 Axes>"
      ]
     },
     "metadata": {
      "needs_background": "light"
     },
     "output_type": "display_data"
    }
   ],
   "source": [
    "xs = []\n",
    "ys = []\n",
    "\n",
    "n = 10\n",
    "m = 10\n",
    "\n",
    "for i in range (0, n):\n",
    "    for j in range (0, n):\n",
    "        xs.append(i/n)\n",
    "for i in range (0, n):\n",
    "    ys.append()\n",
    "ys = [a * 2 for a in xs]\n",
    "plt.scatter(xs,ys,s=1)"
   ]
  },
  {
   "cell_type": "code",
   "execution_count": null,
   "metadata": {},
   "outputs": [],
   "source": []
  }
 ],
 "metadata": {
  "kernelspec": {
   "display_name": "Python 3",
   "language": "python",
   "name": "python3"
  },
  "language_info": {
   "codemirror_mode": {
    "name": "ipython",
    "version": 3
   },
   "file_extension": ".py",
   "mimetype": "text/x-python",
   "name": "python",
   "nbconvert_exporter": "python",
   "pygments_lexer": "ipython3",
   "version": "3.7.7"
  }
 },
 "nbformat": 4,
 "nbformat_minor": 2
}
