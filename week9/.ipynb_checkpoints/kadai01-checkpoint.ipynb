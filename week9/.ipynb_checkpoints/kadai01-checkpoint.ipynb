{
 "cells": [
  {
   "cell_type": "code",
   "execution_count": 17,
   "metadata": {},
   "outputs": [],
   "source": [
    "class Matrix:\n",
    "    def __init__(self, a11, a12, a21, a22):\n",
    "        self.a11 = a11\n",
    "        self.a12 = a12\n",
    "        self.a21 = a21\n",
    "        self.a22 = a22\n",
    "        \n",
    "    def __repr__(self):\n",
    "        s = f'[{self.a11} {self.a12}]\\n'\n",
    "        s += f'[{self.a21} {self.a22}]'\n",
    "        return s\n",
    "    \n",
    "    def add(self, m2):\n",
    "        the_sum = Matrix(0,0,0,0)\n",
    "        the_sum.a11 = self.a11 + m2.a11\n",
    "        the_sum.a12 = self.a12 + m2.a12\n",
    "        the_sum.a12 = self.a12 + m2.a12\n",
    "        return the_sum\n",
    "        "
   ]
  },
  {
   "cell_type": "code",
   "execution_count": 18,
   "metadata": {},
   "outputs": [],
   "source": [
    "m1 = Matrix(1,2,5,1)"
   ]
  },
  {
   "cell_type": "code",
   "execution_count": 19,
   "metadata": {},
   "outputs": [
    {
     "name": "stdout",
     "output_type": "stream",
     "text": [
      "[1 2]\n",
      "[5 1]\n"
     ]
    }
   ],
   "source": [
    "print(m1)"
   ]
  },
  {
   "cell_type": "code",
   "execution_count": 20,
   "metadata": {},
   "outputs": [],
   "source": [
    "m2 = Matrix(2,5,3,2)"
   ]
  },
  {
   "cell_type": "code",
   "execution_count": 21,
   "metadata": {},
   "outputs": [
    {
     "data": {
      "text/plain": [
       "[3 0]\n",
       "[0 0]"
      ]
     },
     "execution_count": 21,
     "metadata": {},
     "output_type": "execute_result"
    }
   ],
   "source": [
    "m1.add(m2)"
   ]
  },
  {
   "cell_type": "code",
   "execution_count": null,
   "metadata": {},
   "outputs": [],
   "source": []
  }
 ],
 "metadata": {
  "kernelspec": {
   "display_name": "Python 3",
   "language": "python",
   "name": "python3"
  },
  "language_info": {
   "codemirror_mode": {
    "name": "ipython",
    "version": 3
   },
   "file_extension": ".py",
   "mimetype": "text/x-python",
   "name": "python",
   "nbconvert_exporter": "python",
   "pygments_lexer": "ipython3",
   "version": "3.7.7"
  }
 },
 "nbformat": 4,
 "nbformat_minor": 2
}
