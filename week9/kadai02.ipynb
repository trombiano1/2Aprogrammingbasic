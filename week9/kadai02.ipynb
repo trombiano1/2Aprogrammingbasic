{
 "cells": [
  {
   "cell_type": "code",
   "execution_count": 34,
   "metadata": {},
   "outputs": [],
   "source": [
    "import math\n",
    "\n",
    "class Matrix:\n",
    "    def __init__(self, a11, a12, a21, a22):\n",
    "        self.a11 = a11\n",
    "        self.a12 = a12\n",
    "        self.a21 = a21\n",
    "        self.a22 = a22\n",
    "        \n",
    "    def __repr__(self):\n",
    "        s = f'[{self.a11} {self.a12}]\\n'\n",
    "        s += f'[{self.a21} {self.a22}]'\n",
    "        return s\n",
    "    \n",
    "    def add(self, m2):\n",
    "        the_sum = Matrix(0,0,0,0)\n",
    "        the_sum.a11 = self.a11 + m2.a11\n",
    "        the_sum.a12 = self.a12 + m2.a12\n",
    "        the_sum.a21 = self.a21 + m2.a21\n",
    "        the_sum.a22 = self.a22 + m2.a22\n",
    "        return the_sum\n",
    "    \n",
    "    def multiply(self, m2):\n",
    "        the_product = Matrix(0,0,0,0)\n",
    "        the_product.a11 = self.a11 * m2.a11 + self.a12 * m2.a21\n",
    "        the_product.a21 = self.a21 * m2.a11 + self.a22 * m2.a21\n",
    "        the_product.a12 = self.a11 * m2.a12 + self.a12 * m2.a22\n",
    "        the_product.a22 = self.a21 * m2.a12 + self.a22 * m2.a22\n",
    "        return the_product\n",
    "    \n",
    "    def scalar(self, a):\n",
    "        self.a11 = a * self.a11\n",
    "        self.a12 = a * self.a12\n",
    "        self.a21 = a * self.a21\n",
    "        self.a22 = a * self.a22\n",
    "        return self"
   ]
  },
  {
   "cell_type": "code",
   "execution_count": 35,
   "metadata": {},
   "outputs": [],
   "source": [
    "m1 = Matrix(1,2,5,1)"
   ]
  },
  {
   "cell_type": "code",
   "execution_count": 36,
   "metadata": {},
   "outputs": [
    {
     "name": "stdout",
     "output_type": "stream",
     "text": [
      "[1 2]\n",
      "[5 1]\n"
     ]
    }
   ],
   "source": [
    "print(m1)"
   ]
  },
  {
   "cell_type": "code",
   "execution_count": 37,
   "metadata": {},
   "outputs": [],
   "source": [
    "m2 = Matrix(2,5,3,2)"
   ]
  },
  {
   "cell_type": "code",
   "execution_count": 38,
   "metadata": {},
   "outputs": [
    {
     "data": {
      "text/plain": [
       "[3 7]\n",
       "[8 3]"
      ]
     },
     "execution_count": 38,
     "metadata": {},
     "output_type": "execute_result"
    }
   ],
   "source": [
    "m1.add(m2)"
   ]
  },
  {
   "cell_type": "code",
   "execution_count": 79,
   "metadata": {},
   "outputs": [
    {
     "name": "stdout",
     "output_type": "stream",
     "text": [
      "[51.96895619870501 75.73656456700324]\n",
      "[113.10484685050481 164.07380304920989]\n"
     ]
    }
   ],
   "source": [
    "def get_nth_multiple(m, k):\n",
    "    if k == 0:\n",
    "        return Matrix(1,1,1,1)\n",
    "    the_product = Matrix(1,2,3,4)\n",
    "    for i in range (0, k-1):\n",
    "        the_product = the_product.multiply(m)\n",
    "    return the_product\n",
    "\n",
    "m1 = Matrix(1,2,3,4)\n",
    "\n",
    "e_to_x = Matrix(0,0,0,0)\n",
    "for i in range (0, 100):\n",
    "    e_to_x = e_to_x.add(get_nth_multiple(m1,i).scalar(1/math.factorial(i)))\n",
    "    \n",
    "print(e_to_x)"
   ]
  }
 ],
 "metadata": {
  "kernelspec": {
   "display_name": "Python 3",
   "language": "python",
   "name": "python3"
  },
  "language_info": {
   "codemirror_mode": {
    "name": "ipython",
    "version": 3
   },
   "file_extension": ".py",
   "mimetype": "text/x-python",
   "name": "python",
   "nbconvert_exporter": "python",
   "pygments_lexer": "ipython3",
   "version": "3.7.7"
  }
 },
 "nbformat": 4,
 "nbformat_minor": 2
}
