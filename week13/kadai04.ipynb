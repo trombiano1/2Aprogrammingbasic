{
 "cells": [
  {
   "cell_type": "code",
   "execution_count": 3,
   "metadata": {},
   "outputs": [],
   "source": [
    "import subprocess"
   ]
  },
  {
   "cell_type": "code",
   "execution_count": 4,
   "metadata": {},
   "outputs": [
    {
     "data": {
      "image/png": "[encoded data removed]",
      "text/plain": [
       "<Figure size 432x288 with 1 Axes>"
      ]
     },
     "metadata": {
      "needs_background": "light"
     },
     "output_type": "display_data"
    }
   ],
   "source": [
    "import matplotlib.pyplot as plt\n",
    "\n",
    "x = [i/1000 for i in range (400, 1000)]\n",
    "y = []\n",
    "for i in range (0, 600):\n",
    "    y.append(x[i]/(x[i]+1))\n",
    "plt.scatter(x,y, c='black', s=0.1)\n",
    "    \n",
    "xx = [i/20+0.5 for i in range (0,10)]\n",
    "yy = []\n",
    "subprocess.run(args = ['gcc','kadai04.c','-o','rwalk'])\n",
    "for i in range (0, 10):\n",
    "    output = subprocess.run(args=['./rwalk',str(xx[i]),'100000'],stdout=subprocess.PIPE)\n",
    "    yy.append(float(output.stdout.decode()))\n",
    "plt.scatter(xx,yy)\n",
    "\n",
    "plt.show()"
   ]
  },
  {
   "cell_type": "code",
   "execution_count": null,
   "metadata": {},
   "outputs": [],
   "source": []
  }
 ],
 "metadata": {
  "kernelspec": {
   "display_name": "Python 3",
   "language": "python",
   "name": "python3"
  },
  "language_info": {
   "codemirror_mode": {
    "name": "ipython",
    "version": 3
   },
   "file_extension": ".py",
   "mimetype": "text/x-python",
   "name": "python",
   "nbconvert_exporter": "python",
   "pygments_lexer": "ipython3",
   "version": "3.7.7"
  }
 },
 "nbformat": 4,
 "nbformat_minor": 2
}
