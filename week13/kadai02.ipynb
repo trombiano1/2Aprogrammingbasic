{
 "cells": [
  {
   "cell_type": "code",
   "execution_count": 2,
   "metadata": {},
   "outputs": [
    {
     "name": "stdout",
     "output_type": "stream",
     "text": [
      "Requirement already satisfied: sympy in /usr/local/Cellar/jupyterlab/1.2.3/libexec/lib/python3.7/site-packages (1.7.1)\n",
      "Requirement already satisfied: mpmath>=0.19 in /usr/local/Cellar/jupyterlab/1.2.3/libexec/lib/python3.7/site-packages (from sympy) (1.1.0)\n",
      "\u001b[33mWARNING: You are using pip version 19.3.1; however, version 20.3.3 is available.\n",
      "You should consider upgrading via the 'pip install --upgrade pip' command.\u001b[0m\n",
      "Note: you may need to restart the kernel to use updated packages.\n"
     ]
    }
   ],
   "source": [
    "pip install sympy"
   ]
  },
  {
   "cell_type": "code",
   "execution_count": 3,
   "metadata": {},
   "outputs": [
    {
     "data": {
      "text/latex": [
       "$\\displaystyle 16 x^{4} - 48 x^{2} + 12$"
      ],
      "text/plain": [
       "16*x**4 - 48*x**2 + 12"
      ]
     },
     "execution_count": 3,
     "metadata": {},
     "output_type": "execute_result"
    }
   ],
   "source": [
    "import sympy\n",
    "\n",
    "def hermite(n,x):\n",
    "    if (n == 0):\n",
    "        return 1\n",
    "    if (n == 1):\n",
    "        return 2*x\n",
    "    return 2*x*hermite(n-1,x)-2*(n-1)*hermite(n-2,x)\n",
    "\n",
    "x = sympy.Symbol('x')\n",
    "p = hermite(4,x).simplify()\n",
    "p"
   ]
  },
  {
   "cell_type": "code",
   "execution_count": 4,
   "metadata": {},
   "outputs": [
    {
     "name": "stdout",
     "output_type": "stream",
     "text": [
      "(m,n)=(1,1)\n"
     ]
    },
    {
     "data": {
      "text/latex": [
       "$\\displaystyle 2 \\sqrt{\\pi}$"
      ],
      "text/plain": [
       "2*sqrt(pi)"
      ]
     },
     "execution_count": 4,
     "metadata": {},
     "output_type": "execute_result"
    }
   ],
   "source": [
    "def inner_prod(m,n):\n",
    "    return sympy.integrate(hermite(m,x)*hermite(n,x)*sympy.exp(-x**2),(x,-sympy.oo,sympy.oo))\n",
    "    \n",
    "x = sympy.Symbol('x')\n",
    "print(\"(m,n)=(1,1)\")\n",
    "inner_prod(1,1)"
   ]
  },
  {
   "cell_type": "code",
   "execution_count": 5,
   "metadata": {},
   "outputs": [
    {
     "name": "stdout",
     "output_type": "stream",
     "text": [
      "(m,n)=(1,2)\n"
     ]
    },
    {
     "data": {
      "text/latex": [
       "$\\displaystyle 0$"
      ],
      "text/plain": [
       "0"
      ]
     },
     "execution_count": 5,
     "metadata": {},
     "output_type": "execute_result"
    }
   ],
   "source": [
    "print(\"(m,n)=(1,2)\")\n",
    "inner_prod(1,2)"
   ]
  },
  {
   "cell_type": "code",
   "execution_count": null,
   "metadata": {},
   "outputs": [],
   "source": []
  }
 ],
 "metadata": {
  "kernelspec": {
   "display_name": "Python 3",
   "language": "python",
   "name": "python3"
  },
  "language_info": {
   "codemirror_mode": {
    "name": "ipython",
    "version": 3
   },
   "file_extension": ".py",
   "mimetype": "text/x-python",
   "name": "python",
   "nbconvert_exporter": "python",
   "pygments_lexer": "ipython3",
   "version": "3.7.7"
  }
 },
 "nbformat": 4,
 "nbformat_minor": 2
}
