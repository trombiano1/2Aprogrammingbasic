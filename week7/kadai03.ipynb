{
 "cells": [
  {
   "cell_type": "code",
   "execution_count": 11,
   "metadata": {},
   "outputs": [
    {
     "name": "stdout",
     "output_type": "stream",
     "text": [
      "[1, 2, 2, 3, 6, 7, 8]\n"
     ]
    }
   ],
   "source": [
    "nums = [2,3,6,2,1,7,8]\n",
    "for i in range (0, len(nums)-1):\n",
    "    for j in range (0, len(nums) - i - 1):\n",
    "        if nums[j] >= nums[j+1]:\n",
    "            temp = nums[j+1]\n",
    "            nums[j+1] = nums[j]\n",
    "            nums[j] = temp\n",
    "\n",
    "print(nums)"
   ]
  },
  {
   "cell_type": "code",
   "execution_count": null,
   "metadata": {},
   "outputs": [],
   "source": []
  }
 ],
 "metadata": {
  "kernelspec": {
   "display_name": "Python 3",
   "language": "python",
   "name": "python3"
  },
  "language_info": {
   "codemirror_mode": {
    "name": "ipython",
    "version": 3
   },
   "file_extension": ".py",
   "mimetype": "text/x-python",
   "name": "python",
   "nbconvert_exporter": "python",
   "pygments_lexer": "ipython3",
   "version": "3.7.7"
  }
 },
 "nbformat": 4,
 "nbformat_minor": 2
}
