{
 "cells": [
  {
   "cell_type": "code",
   "execution_count": 5,
   "metadata": {},
   "outputs": [
    {
     "name": "stdout",
     "output_type": "stream",
     "text": [
      "P_16(0.5)=-0.14985513547435403\n",
      "P_32(0.7)=0.16517573473031175\n"
     ]
    }
   ],
   "source": [
    "def legendre(n,x):\n",
    "    if(n==0):\n",
    "        return 1.0\n",
    "    elif (n==1):\n",
    "        return x\n",
    "    else:\n",
    "        return ((2*n-1)*x*legendre(n-1,x)-(n-1)*legendre(n-2,x))/n\n",
    "    \n",
    "print(\"P_16(0.5)=\"+str(legendre(16,0.5)))\n",
    "print(\"P_32(0.7)=\"+str(legendre(32,0.7)))"
   ]
  },
  {
   "cell_type": "code",
   "execution_count": null,
   "metadata": {},
   "outputs": [],
   "source": []
  }
 ],
 "metadata": {
  "kernelspec": {
   "display_name": "Python 3",
   "language": "python",
   "name": "python3"
  },
  "language_info": {
   "codemirror_mode": {
    "name": "ipython",
    "version": 3
   },
   "file_extension": ".py",
   "mimetype": "text/x-python",
   "name": "python",
   "nbconvert_exporter": "python",
   "pygments_lexer": "ipython3",
   "version": "3.7.7"
  }
 },
 "nbformat": 4,
 "nbformat_minor": 2
}
