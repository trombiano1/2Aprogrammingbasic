{
 "cells": [
  {
   "cell_type": "code",
   "execution_count": 1,
   "metadata": {},
   "outputs": [],
   "source": [
    "import math\n",
    "\n",
    "url_dict = {}\n",
    "\n",
    "alnum = \"0123456789abcdefghijklmnopqrstuvwxyzABCDEFGHIJELMNOPQRSTUVWXYZ\"\n",
    "\n",
    "def encode_decimal62(num, chars = alnum):\n",
    "    string = \"\"\n",
    "    while True:\n",
    "        string = chars[num % 62] + string\n",
    "        num = num // 62\n",
    "        if num == 0:\n",
    "            break\n",
    "    return string\n",
    "\n",
    "def generate_short_url(long_url):\n",
    "    count = 0\n",
    "    while True:\n",
    "        count += 1\n",
    "        short_url = encode_decimal62(abs(long_url.__hash__()) + count)\n",
    "        if not short_url in url_dict:\n",
    "            break\n",
    "    url_dict.update({short_url:long_url})\n",
    "    print(short_url)\n",
    "\n",
    "def get_long_url(short_url):\n",
    "    print(url_dict[short_url])"
   ]
  },
  {
   "cell_type": "code",
   "execution_count": 2,
   "metadata": {},
   "outputs": [
    {
     "name": "stdout",
     "output_type": "stream",
     "text": [
      "GG0x0xe0NW\n"
     ]
    }
   ],
   "source": [
    "generate_short_url('http://hello.com')"
   ]
  },
  {
   "cell_type": "code",
   "execution_count": 3,
   "metadata": {},
   "outputs": [
    {
     "name": "stdout",
     "output_type": "stream",
     "text": [
      "http://hello.com\n"
     ]
    }
   ],
   "source": [
    "get_long_url('GG0x0xe0NW')"
   ]
  },
  {
   "cell_type": "code",
   "execution_count": null,
   "metadata": {},
   "outputs": [],
   "source": []
  }
 ],
 "metadata": {
  "kernelspec": {
   "display_name": "Python 3",
   "language": "python",
   "name": "python3"
  },
  "language_info": {
   "codemirror_mode": {
    "name": "ipython",
    "version": 3
   },
   "file_extension": ".py",
   "mimetype": "text/x-python",
   "name": "python",
   "nbconvert_exporter": "python",
   "pygments_lexer": "ipython3",
   "version": "3.7.7"
  }
 },
 "nbformat": 4,
 "nbformat_minor": 2
}
